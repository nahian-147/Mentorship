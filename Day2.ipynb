{
 "cells": [
  {
   "cell_type": "code",
   "execution_count": 1,
   "id": "e628d32a-cfb0-47dc-a5eb-2dd8172c78cc",
   "metadata": {},
   "outputs": [],
   "source": [
    "fruits = ['Mango','Orange','Banana','JackFruit','Apple']"
   ]
  },
  {
   "cell_type": "code",
   "execution_count": 2,
   "id": "62111450-2785-46f1-bea2-0d6a8d1c953b",
   "metadata": {},
   "outputs": [
    {
     "data": {
      "text/plain": [
       "False"
      ]
     },
     "execution_count": 2,
     "metadata": {},
     "output_type": "execute_result"
    }
   ],
   "source": [
    "'orange' in fruits"
   ]
  },
  {
   "cell_type": "code",
   "execution_count": 3,
   "id": "57b67b00-cbff-4a75-8211-87fd83cff930",
   "metadata": {},
   "outputs": [
    {
     "name": "stdout",
     "output_type": "stream",
     "text": [
      "Banana\n",
      "mahi goes to college\n",
      "MAHI GOES TO COLLEGE\n",
      "3\n"
     ]
    }
   ],
   "source": [
    "print(fruits[2])\n",
    "\n",
    "print('Mahi Goes to College'.lower())\n",
    "\n",
    "print('Mahi Goes to College'.upper())\n",
    "\n",
    "print('Mahi Goes to College'.count('e'))"
   ]
  },
  {
   "cell_type": "code",
   "execution_count": null,
   "id": "19bdc145-69f5-48d8-84b9-6356c78d0476",
   "metadata": {},
   "outputs": [],
   "source": []
  }
 ],
 "metadata": {
  "kernelspec": {
   "display_name": "Python 3",
   "language": "python",
   "name": "python3"
  },
  "language_info": {
   "codemirror_mode": {
    "name": "ipython",
    "version": 3
   },
   "file_extension": ".py",
   "mimetype": "text/x-python",
   "name": "python",
   "nbconvert_exporter": "python",
   "pygments_lexer": "ipython3",
   "version": "3.8.10"
  }
 },
 "nbformat": 4,
 "nbformat_minor": 5
}
