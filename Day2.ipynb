{
 "cells": [
  {
   "cell_type": "code",
   "execution_count": 1,
   "id": "e628d32a-cfb0-47dc-a5eb-2dd8172c78cc",
   "metadata": {},
   "outputs": [],
   "source": [
    "fruits = ['Mango','Orange','Banana','JackFruit','Apple']"
   ]
  },
  {
   "cell_type": "code",
   "execution_count": 2,
   "id": "62111450-2785-46f1-bea2-0d6a8d1c953b",
   "metadata": {},
   "outputs": [
    {
     "data": {
      "text/plain": [
       "False"
      ]
     },
     "execution_count": 2,
     "metadata": {},
     "output_type": "execute_result"
    }
   ],
   "source": [
    "'orange' in fruits"
   ]
  },
  {
   "cell_type": "code",
   "execution_count": 3,
   "id": "57b67b00-cbff-4a75-8211-87fd83cff930",
   "metadata": {},
   "outputs": [
    {
     "name": "stdout",
     "output_type": "stream",
     "text": [
      "Banana\n",
      "mahi goes to college\n",
      "MAHI GOES TO COLLEGE\n",
      "3\n"
     ]
    }
   ],
   "source": [
    "print(fruits[2])\n",
    "\n",
    "print('Mahi Goes to College'.lower())\n",
    "\n",
    "print('Mahi Goes to College'.upper())\n",
    "\n",
    "print('Mahi Goes to College'.count('e'))"
   ]
  },
  {
   "cell_type": "code",
   "execution_count": 10,
   "id": "19bdc145-69f5-48d8-84b9-6356c78d0476",
   "metadata": {},
   "outputs": [],
   "source": [
    "s  = 'Mahi Goes to school'"
   ]
  },
  {
   "cell_type": "code",
   "execution_count": 16,
   "id": "188809f3-9364-4f8d-a8e2-abc75eb73b6e",
   "metadata": {},
   "outputs": [],
   "source": [
    "s = s.replace('Goes','Will Go')"
   ]
  },
  {
   "cell_type": "code",
   "execution_count": 18,
   "id": "c649ce3e-5db3-4933-b1ed-e95c40439b40",
   "metadata": {},
   "outputs": [],
   "source": [
    "s = s.replace('school','college')"
   ]
  },
  {
   "cell_type": "code",
   "execution_count": 19,
   "id": "8b29c4df-c7a0-4ff1-b883-3c225f4f6416",
   "metadata": {},
   "outputs": [
    {
     "data": {
      "text/plain": [
       "'Mahi Will Go to college'"
      ]
     },
     "execution_count": 19,
     "metadata": {},
     "output_type": "execute_result"
    }
   ],
   "source": [
    "s"
   ]
  },
  {
   "cell_type": "code",
   "execution_count": 24,
   "id": "ab4713af-422d-4044-86f9-e95ac811fb23",
   "metadata": {},
   "outputs": [
    {
     "data": {
      "text/plain": [
       "'g'"
      ]
     },
     "execution_count": 24,
     "metadata": {},
     "output_type": "execute_result"
    }
   ],
   "source": [
    "s[-2]"
   ]
  },
  {
   "cell_type": "code",
   "execution_count": 25,
   "id": "19c40432-5094-4403-a073-9494163b3830",
   "metadata": {},
   "outputs": [
    {
     "data": {
      "text/plain": [
       "'Apple'"
      ]
     },
     "execution_count": 25,
     "metadata": {},
     "output_type": "execute_result"
    }
   ],
   "source": [
    "fruits[-1]"
   ]
  },
  {
   "cell_type": "code",
   "execution_count": 28,
   "id": "2d78c441-8ca4-4ec0-a40f-6a289b4d879d",
   "metadata": {},
   "outputs": [
    {
     "name": "stdin",
     "output_type": "stream",
     "text": [
      "type your name :  ff\n"
     ]
    },
    {
     "name": "stdout",
     "output_type": "stream",
     "text": [
      "your name is ff\n"
     ]
    }
   ],
   "source": [
    "p = input(\"type your name : \")\n",
    "print(\"your name is \"+p)"
   ]
  },
  {
   "cell_type": "code",
   "execution_count": null,
   "id": "e640194b-eeb8-4f79-81ba-cfd80f2a09be",
   "metadata": {},
   "outputs": [],
   "source": [
    "p = int(input())\n",
    "q = int(input()\n",
    "print(int(p)+int(q))"
   ]
  },
  {
   "cell_type": "code",
   "execution_count": null,
   "id": "b19a444f-ddff-4a0e-9eaa-5e623b72c177",
   "metadata": {},
   "outputs": [],
   "source": []
  }
 ],
 "metadata": {
  "kernelspec": {
   "display_name": "Python 3",
   "language": "python",
   "name": "python3"
  },
  "language_info": {
   "codemirror_mode": {
    "name": "ipython",
    "version": 3
   },
   "file_extension": ".py",
   "mimetype": "text/x-python",
   "name": "python",
   "nbconvert_exporter": "python",
   "pygments_lexer": "ipython3",
   "version": "3.8.10"
  }
 },
 "nbformat": 4,
 "nbformat_minor": 5
}
